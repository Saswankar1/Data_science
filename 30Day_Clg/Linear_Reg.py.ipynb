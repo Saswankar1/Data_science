{
 "cells": [
  {
   "cell_type": "markdown",
   "id": "137b8f74",
   "metadata": {},
   "source": [
    "## Linear Regression\n",
    "\n",
    "Linear regression is a type of supervised machine learning algorithm that computes the linear relationship between the dependent variable and one or more independent features by fitting a linear equation to observed data.\n",
    "\n",
    "When there is only one independent feature, it is known as Simple Linear Regression, and when there are more than one feature, it is known as Multiple Linear Regression.\n",
    "\n",
    "#### 1. Simple Linear Regression\n",
    "This is the simplest form of linear regression, and it involves only one independent variable and one dependent variable. The equation for simple linear regression is:\n",
    "\n",
    "       Y = β0 + β1X\n",
    "   \n",
    "where:\n",
    "\n",
    "- Y is the dependent variable\n",
    "- X is the independent variable\n",
    "- β0 is the intercept\n",
    "- β1 is the slope\n",
    "\n",
    "#### 2. Multiple Linear Regression\n",
    "This involves more than one independent variable and one dependent variable. The equation for multiple linear regression is:\n",
    "\n",
    "      Y = β0 + β1X1 + β2X2 + ... + βnXn\n",
    "      \n",
    "where:\n",
    "\n",
    "- Y is the dependent variable\n",
    "- X1, X2, …, Xp are the independent variables\n",
    "- β0 is the intercept\n",
    "- β1, β2, …, βn are the slopes\n"
   ]
  },
  {
   "cell_type": "code",
   "execution_count": 3,
   "id": "e2744cd9",
   "metadata": {},
   "outputs": [],
   "source": [
    "import pandas as pd\n",
    "import numpy as np\n",
    "import matplotlib.pyplot as plt\n",
    "from sklearn.model_selection import train_test_split\n",
    "from sklearn.linear_model import LinearRegression"
   ]
  },
  {
   "cell_type": "code",
   "execution_count": 4,
   "id": "14b04739",
   "metadata": {},
   "outputs": [
    {
     "data": {
      "text/html": [
       "<div>\n",
       "<style scoped>\n",
       "    .dataframe tbody tr th:only-of-type {\n",
       "        vertical-align: middle;\n",
       "    }\n",
       "\n",
       "    .dataframe tbody tr th {\n",
       "        vertical-align: top;\n",
       "    }\n",
       "\n",
       "    .dataframe thead th {\n",
       "        text-align: right;\n",
       "    }\n",
       "</style>\n",
       "<table border=\"1\" class=\"dataframe\">\n",
       "  <thead>\n",
       "    <tr style=\"text-align: right;\">\n",
       "      <th></th>\n",
       "      <th>YearsExperience</th>\n",
       "      <th>Age</th>\n",
       "      <th>Salary</th>\n",
       "    </tr>\n",
       "  </thead>\n",
       "  <tbody>\n",
       "    <tr>\n",
       "      <th>0</th>\n",
       "      <td>1.1</td>\n",
       "      <td>21.0</td>\n",
       "      <td>39343</td>\n",
       "    </tr>\n",
       "    <tr>\n",
       "      <th>1</th>\n",
       "      <td>1.3</td>\n",
       "      <td>21.5</td>\n",
       "      <td>46205</td>\n",
       "    </tr>\n",
       "    <tr>\n",
       "      <th>2</th>\n",
       "      <td>1.5</td>\n",
       "      <td>21.7</td>\n",
       "      <td>37731</td>\n",
       "    </tr>\n",
       "    <tr>\n",
       "      <th>3</th>\n",
       "      <td>2.0</td>\n",
       "      <td>22.0</td>\n",
       "      <td>43525</td>\n",
       "    </tr>\n",
       "    <tr>\n",
       "      <th>4</th>\n",
       "      <td>2.2</td>\n",
       "      <td>22.2</td>\n",
       "      <td>39891</td>\n",
       "    </tr>\n",
       "  </tbody>\n",
       "</table>\n",
       "</div>"
      ],
      "text/plain": [
       "   YearsExperience   Age  Salary\n",
       "0              1.1  21.0   39343\n",
       "1              1.3  21.5   46205\n",
       "2              1.5  21.7   37731\n",
       "3              2.0  22.0   43525\n",
       "4              2.2  22.2   39891"
      ]
     },
     "execution_count": 4,
     "metadata": {},
     "output_type": "execute_result"
    }
   ],
   "source": [
    "df = pd.read_csv(\"Salary_Data.csv\")\n",
    "df.head()"
   ]
  },
  {
   "cell_type": "code",
   "execution_count": 27,
   "id": "19048b77",
   "metadata": {},
   "outputs": [
    {
     "name": "stdout",
     "output_type": "stream",
     "text": [
      "[[ 39343]\n",
      " [ 46205]\n",
      " [ 37731]\n",
      " [ 43525]\n",
      " [ 39891]\n",
      " [ 56642]\n",
      " [ 60150]\n",
      " [ 54445]\n",
      " [ 64445]\n",
      " [ 57189]\n",
      " [ 63218]\n",
      " [ 55794]\n",
      " [ 56957]\n",
      " [ 57081]\n",
      " [ 61111]\n",
      " [ 67938]\n",
      " [ 66029]\n",
      " [ 83088]\n",
      " [ 81363]\n",
      " [ 93940]\n",
      " [ 91738]\n",
      " [ 98273]\n",
      " [101302]\n",
      " [113812]\n",
      " [109431]\n",
      " [105582]\n",
      " [116969]\n",
      " [112635]\n",
      " [122391]\n",
      " [121872]]\n"
     ]
    }
   ],
   "source": [
    "# Dependent Variables\n",
    "X = df[['Salary']].values\n",
    "print(X)"
   ]
  },
  {
   "cell_type": "code",
   "execution_count": 28,
   "id": "549cdcf5",
   "metadata": {},
   "outputs": [
    {
     "name": "stdout",
     "output_type": "stream",
     "text": [
      "[ 1.1  1.3  1.5  2.   2.2  2.9  3.   3.2  3.2  3.7  3.9  4.   4.   4.1\n",
      "  4.5  4.9  5.1  5.3  5.9  6.   6.8  7.1  7.9  8.2  8.7  9.   9.5  9.6\n",
      " 10.3 10.5]\n"
     ]
    }
   ],
   "source": [
    "# Independent Variables\n",
    "y = df['YearsExperience'].values\n",
    "print(y)"
   ]
  },
  {
   "cell_type": "code",
   "execution_count": 29,
   "id": "13f58b85",
   "metadata": {},
   "outputs": [],
   "source": [
    "'''\n",
    "test_size=0.5:  This parameter specifies the proportion of the dataset to include in the test split. In this case, \n",
    "                0.5 means 50% of the data will be used for testing, and the remaining 50% will be used for training.\n",
    "\n",
    "random_state=0: This parameter ensures reproducibility of the split. By setting a seed value (in this case, 0), \n",
    "                the function will always produce the same split when you run it multiple times. \n",
    "                This is important for ensuring consistent results in your experiments.\n",
    "                \n",
    "'''\n",
    "# splitting the dataset into training and testing dataset\n",
    "X_train, X_test, y_train, y_test = train_test_split(X,y, test_size=0.5, random_state = 0)"
   ]
  },
  {
   "cell_type": "code",
   "execution_count": 31,
   "id": "40297d0a",
   "metadata": {},
   "outputs": [
    {
     "data": {
      "text/plain": [
       "LinearRegression()"
      ]
     },
     "execution_count": 31,
     "metadata": {},
     "output_type": "execute_result"
    }
   ],
   "source": [
    "# define a model\n",
    "model = LinearRegression()\n",
    "\n",
    "# providing training data\n",
    "model.fit(X_train, y_train)"
   ]
  },
  {
   "cell_type": "code",
   "execution_count": 33,
   "id": "0c7714ba",
   "metadata": {},
   "outputs": [
    {
     "name": "stdout",
     "output_type": "stream",
     "text": [
      "[ 1.29549517 10.10927918  3.30998514  3.94889599  9.54480556  8.76003939\n",
      "  9.09360145  3.17599813  6.01752212  7.91374539  3.26428172  4.2415436\n",
      "  4.07663651  3.72954041  9.21613658]\n"
     ]
    }
   ],
   "source": [
    "y_predicted = model.predict(X_test)\n",
    "print(y_predicted)"
   ]
  },
  {
   "cell_type": "code",
   "execution_count": 34,
   "id": "077100f9",
   "metadata": {},
   "outputs": [
    {
     "name": "stdout",
     "output_type": "stream",
     "text": [
      "[ 1.5 10.3  4.1  3.9  9.5  8.7  9.6  4.   5.3  7.9  2.9  5.1  3.2  4.5\n",
      "  8.2]\n"
     ]
    }
   ],
   "source": [
    "print(y_test)"
   ]
  },
  {
   "cell_type": "code",
   "execution_count": 38,
   "id": "559bb378",
   "metadata": {},
   "outputs": [
    {
     "name": "stdout",
     "output_type": "stream",
     "text": [
      "    y_test  y_predicted\n",
      "0      1.5     1.295495\n",
      "1     10.3    10.109279\n",
      "2      4.1     3.309985\n",
      "3      3.9     3.948896\n",
      "4      9.5     9.544806\n",
      "5      8.7     8.760039\n",
      "6      9.6     9.093601\n",
      "7      4.0     3.175998\n",
      "8      5.3     6.017522\n",
      "9      7.9     7.913745\n",
      "10     2.9     3.264282\n",
      "11     5.1     4.241544\n",
      "12     3.2     4.076637\n",
      "13     4.5     3.729540\n",
      "14     8.2     9.216137\n"
     ]
    }
   ],
   "source": [
    "# Create a DataFrame to compare the results\n",
    "comparison_df = pd.DataFrame({\n",
    "    'y_test': y_test,\n",
    "    'y_predicted': y_predicted\n",
    "})\n",
    "\n",
    "print(comparison_df)"
   ]
  },
  {
   "cell_type": "code",
   "execution_count": 40,
   "id": "adf0a964",
   "metadata": {},
   "outputs": [
    {
     "data": {
      "image/png": "[encoded data removed]",
      "text/plain": [
       "<Figure size 432x288 with 1 Axes>"
      ]
     },
     "metadata": {
      "needs_background": "light"
     },
     "output_type": "display_data"
    }
   ],
   "source": [
    "# Visualizing the Training set results\n",
    "plt.scatter(X_train, y_train, color = 'red')\n",
    "plt.plot(X_train, model.predict(X_train), color = 'blue')\n",
    "plt.title('Salary vs Experience (Training set)')\n",
    "plt.xlabel('Years of Experience')\n",
    "plt.ylabel('Salary')\n",
    "plt.show()"
   ]
  },
  {
   "cell_type": "code",
   "execution_count": 42,
   "id": "c9b8fca8",
   "metadata": {},
   "outputs": [
    {
     "data": {
      "image/png": "[encoded data removed]",
      "text/plain": [
       "<Figure size 432x288 with 1 Axes>"
      ]
     },
     "metadata": {
      "needs_background": "light"
     },
     "output_type": "display_data"
    }
   ],
   "source": [
    "# Visualizing the Testing set results\n",
    "plt.scatter(X_test, y_test, color = 'red')\n",
    "plt.plot(X_train, model.predict(X_train), color = 'blue')\n",
    "plt.title('Salary vs Experience (Test set)')\n",
    "plt.xlabel('Years of Experience')\n",
    "plt.ylabel('Salary')\n",
    "plt.show()"
   ]
  },
  {
   "cell_type": "code",
   "execution_count": 45,
   "id": "f8ac10a2",
   "metadata": {},
   "outputs": [
    {
     "name": "stdout",
     "output_type": "stream",
     "text": [
      "R² score: 0.9518\n",
      "Mean Squared Error (MSE): 0.3617\n",
      "Root Mean Squared Error (RMSE): 0.6014\n",
      "Mean Absolute Error (MAE): 0.4858\n"
     ]
    }
   ],
   "source": [
    "# Evaluate the model for linear model\n",
    "from sklearn.metrics import r2_score, mean_squared_error, mean_absolute_error\n",
    "\n",
    "# Calculate R² score\n",
    "r2 = r2_score(y_test, y_predicted)\n",
    "\n",
    "# Calculate other metrics\n",
    "mse = mean_squared_error(y_test, y_predicted)\n",
    "rmse = np.sqrt(mse)\n",
    "mae = mean_absolute_error(y_test, y_predicted)\n",
    "\n",
    "# Print the scores\n",
    "print(f\"R² score: {r2:.4f}\")\n",
    "print(f\"Mean Squared Error (MSE): {mse:.4f}\")\n",
    "print(f\"Root Mean Squared Error (RMSE): {rmse:.4f}\")\n",
    "print(f\"Mean Absolute Error (MAE): {mae:.4f}\")\n"
   ]
  },
  {
   "cell_type": "markdown",
   "id": "2c7fe1b2",
   "metadata": {},
   "source": [
    "#### R² Score (0.9518): \n",
    "This score indicates that approximately 95.18% of the variance in the dependent variable (y_test) is predictable from the independent variable (X_test). This is a very high score, suggesting that your model is performing well and explaining most of the variability in the data.\n",
    "\n",
    "#### Mean Squared Error (MSE) (0.3617): \n",
    "MSE measures the average squared difference between the actual values and the predicted values. A lower MSE indicates better model performance. In this case, 0.3617 is relatively low, indicating that the model's predictions are quite close to the actual values.\n",
    "\n",
    "#### Root Mean Squared Error (RMSE) (0.6014): \n",
    "RMSE is the square root of MSE, providing an error metric in the same units as the target variable. An RMSE of 0.6014 suggests that, on average, the model's predictions are off by approximately 0.6014 units. This gives a more interpretable measure of prediction error.\n",
    "\n",
    "#### Mean Absolute Error (MAE) (0.4858): \n",
    "MAE measures the average absolute difference between the actual and predicted values. An MAE of 0.4858 means that, on average, the model's predictions are off by about 0.4858 units. This is a good indicator of the model's accuracy in terms of absolute deviations."
   ]
  },
  {
   "cell_type": "code",
   "execution_count": null,
   "id": "435a04a0",
   "metadata": {},
   "outputs": [],
   "source": []
  }
 ],
 "metadata": {
  "kernelspec": {
   "display_name": "Python 3 (ipykernel)",
   "language": "python",
   "name": "python3"
  },
  "language_info": {
   "codemirror_mode": {
    "name": "ipython",
    "version": 3
   },
   "file_extension": ".py",
   "mimetype": "text/x-python",
   "name": "python",
   "nbconvert_exporter": "python",
   "pygments_lexer": "ipython3",
   "version": "3.9.12"
  }
 },
 "nbformat": 4,
 "nbformat_minor": 5
}
