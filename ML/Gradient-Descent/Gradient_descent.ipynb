{
 "cells": [
  {
   "cell_type": "code",
   "execution_count": 1,
   "id": "b2551abe",
   "metadata": {},
   "outputs": [],
   "source": [
    "# In ML model, we create a prediction function using input and output datasets\n",
    "# Mean squared error(one of the cost function)= 1/n * sum[(actual_datapoint-predicted_datapoint)^2]\n",
    "# Gradient descent is an algoritthm that helps in best predict the prediction funct using current dataset in less \n",
    "# iterations\n",
    "# In Gd, we use derivative or slope to arrive at the result\n",
    "# To reach the answer in most effective way:\n",
    "# - keep low iteration rate, keep some learning rate\n",
    "# - manipulate learning rate to dec cost\n",
    "# - after getting suff learn_rate find iteration"
   ]
  },
  {
   "cell_type": "code",
   "execution_count": 5,
   "id": "59961f67",
   "metadata": {},
   "outputs": [],
   "source": [
    "import numpy as np\n",
    "\n",
    "def gradient_descent(x,y):\n",
    "    m_curr=b_curr = 0\n",
    "    learning_rate = 0.0001\n",
    "    iterations = 1000\n",
    "    n=len(x)\n",
    "    for i in range(iterations):\n",
    "        y_predicted = m_curr*x + b_curr\n",
    "        cost_funct = (1/n)*sum([val**2 for val in (y-y_predicted)]) \n",
    "        md = -(2/n)*sum(x*(y-y_predicted))\n",
    "        bd = -(2/n)*sum(y-y_predicted)\n",
    "        m_curr = m_curr - learning_rate*md\n",
    "        b_curr = b_curr - learning_rate*bd\n",
    "    print(\"m_curr is\",m_curr, \"b_curr is\", b_curr)    \n"
   ]
  },
  {
   "cell_type": "code",
   "execution_count": 6,
   "id": "23736bde",
   "metadata": {},
   "outputs": [],
   "source": [
    "x=np.array([12,3,43,23])\n",
    "y=np.array([10,20,32,11])"
   ]
  },
  {
   "cell_type": "code",
   "execution_count": 7,
   "id": "13c15c5b",
   "metadata": {},
   "outputs": [
    {
     "name": "stdout",
     "output_type": "stream",
     "text": [
      "m_curr is 0.6909135816818737 b_curr is 0.749965127376128\n"
     ]
    }
   ],
   "source": [
    "gradient_descent(x,y)"
   ]
  },
  {
   "cell_type": "code",
   "execution_count": null,
   "id": "8f5ff74e",
   "metadata": {},
   "outputs": [],
   "source": []
  }
 ],
 "metadata": {
  "kernelspec": {
   "display_name": "Python 3 (ipykernel)",
   "language": "python",
   "name": "python3"
  },
  "language_info": {
   "codemirror_mode": {
    "name": "ipython",
    "version": 3
   },
   "file_extension": ".py",
   "mimetype": "text/x-python",
   "name": "python",
   "nbconvert_exporter": "python",
   "pygments_lexer": "ipython3",
   "version": "3.9.12"
  }
 },
 "nbformat": 4,
 "nbformat_minor": 5
}
